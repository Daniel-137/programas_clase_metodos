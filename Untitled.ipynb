{
 "cells": [
  {
   "cell_type": "markdown",
   "metadata": {},
   "source": [
    "## Cancelación sustractiva "
   ]
  },
  {
   "cell_type": "code",
   "execution_count": 21,
   "metadata": {},
   "outputs": [],
   "source": [
    "import numpy as np\n",
    "import matplotlib.pyplot as plt"
   ]
  },
  {
   "cell_type": "code",
   "execution_count": 31,
   "metadata": {},
   "outputs": [
    {
     "name": "stdout",
     "output_type": "stream",
     "text": [
      "c=1.00000e-01 x1=-1.12702e-01 x_1=-1.12702e-01 error=0.00000\n",
      "c=1.00000e-02 x1=-1.01021e-02 x_1=-1.01021e-02 error=0.00000\n",
      "c=1.00000e-03 x1=-1.00100e-03 x_1=-1.00100e-03 error=0.00000\n",
      "c=1.00000e-04 x1=-1.00010e-04 x_1=-1.00010e-04 error=0.00000\n",
      "c=1.00000e-05 x1=-1.00001e-05 x_1=-1.00001e-05 error=0.00000\n",
      "c=1.00000e-06 x1=-1.00000e-06 x_1=-1.00000e-06 error=0.00000\n",
      "c=1.00000e-07 x1=-1.00000e-07 x_1=-1.00000e-07 error=0.00000\n",
      "c=1.00000e-08 x1=-1.00000e-08 x_1=-1.00000e-08 error=0.00000\n",
      "c=1.00000e-09 x1=-1.00000e-09 x_1=-1.00000e-09 error=0.00000\n"
     ]
    },
    {
     "data": {
      "image/png": "[encoded data removed]",
      "text/plain": [
       "<matplotlib.figure.Figure at 0x7fb943a81208>"
      ]
     },
     "metadata": {},
     "output_type": "display_data"
    }
   ],
   "source": [
    "\n",
    "a=1.0\n",
    "b=1.0\n",
    "x_list=[]\n",
    "y_list=[]\n",
    "for i in range(1,10):\n",
    "    c=10**(-i)\n",
    "    x1 = (-b+(b**2-4*a*c)**(0.5))/(2*a)\n",
    "    x_1 = 2*c/(-b-(b**2-4*a*c)**0.5)\n",
    "    error= (abs(x_1-x1)/abs(x_1))*100.0\n",
    "    print(\"c=%.5e x1=%.5e x_1=%.5e error=%.5f\"%(c,x1,x_1,error))\n",
    "    x_list.append(c)\n",
    "    y_list.append(error)\n",
    "fig=plt.figure()\n",
    "ax=plt.axes()\n",
    "ax.plot(x_list,y_list,'.',markersize=10)\n",
    "ax.grid()\n",
    "ax.plot(x_list,y_list,'.')\n",
    "ax.set_yscale('log')\n",
    "ax.set_xscale('log')\n",
    "ax.set_label(\"c\")\n",
    "ax.set_ylabel(\"error\")\n",
    "plt.show()"
   ]
  },
  {
   "cell_type": "code",
   "execution_count": null,
   "metadata": {
    "collapsed": true
   },
   "outputs": [],
   "source": []
  }
 ],
 "metadata": {
  "kernelspec": {
   "display_name": "Python 3",
   "language": "python",
   "name": "python3"
  },
  "language_info": {
   "codemirror_mode": {
    "name": "ipython",
    "version": 3
   },
   "file_extension": ".py",
   "mimetype": "text/x-python",
   "name": "python",
   "nbconvert_exporter": "python",
   "pygments_lexer": "ipython3",
   "version": "3.6.3"
  }
 },
 "nbformat": 4,
 "nbformat_minor": 2
}
